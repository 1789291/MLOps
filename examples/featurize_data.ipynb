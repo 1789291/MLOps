{
 "cells": [
  {
   "cell_type": "code",
   "execution_count": null,
   "metadata": {},
   "outputs": [],
   "source": [
    "import os\n",
    "import sys\n",
    "\n",
    "from azureml.core import Workspace, Dataset\n",
    "\n",
    "from azureml.opendatasets import NoaaIsdWeather\n",
    "\n",
    "from datetime import datetime, timedelta"
   ]
  },
  {
   "cell_type": "code",
   "execution_count": null,
   "metadata": {},
   "outputs": [],
   "source": [
    "ws = Workspace.get('retrainingPMVP', subscription_id='60582a10-b9fd-49f1-a546-c4194134bba8')"
   ]
  },
  {
   "cell_type": "code",
   "execution_count": null,
   "metadata": {},
   "outputs": [],
   "source": [
    "dstore = ws.get_default_datastore()"
   ]
  },
  {
   "cell_type": "code",
   "execution_count": null,
   "metadata": {},
   "outputs": [],
   "source": [
    "def get_data(start, delta):\n",
    "    os.makedirs('data', exist_ok=True)\n",
    "    \n",
    "    t1   = start + timedelta(days=28*(delta-1))\n",
    "    t2   = start + timedelta(days=28*delta)\n",
    "\n",
    "    isd   = NoaaIsdWeather(t1, t2)\n",
    "    df    = isd.to_pandas_dataframe()\n",
    "    df    = df[df['stationName'].str.contains('FLORIDA|TEXAS', na=False, regex=True)]\n",
    "    df    = df.drop(columns = ['cloudCoverage', 'presentWeatherIndicator', 'pastWeatherIndicator', 'snowDepth', 'stationName', 'countryOrRegion', 'p_k'])\n",
    "        \n",
    "    df.to_csv('data/{}.csv'.format(delta), index=False)\n",
    "    dstore.upload('data', target_path='data', overwrite=True, show_progress=True)\n",
    "    \n",
    "    dset = Dataset.from_delimited_files(dstore.path('data/{}.csv'.format(delta)))\n",
    "    \n",
    "    dset.register(ws, '{}'.format(delta), exist_ok=True, update_if_exist=True)"
   ]
  },
  {
   "cell_type": "code",
   "execution_count": null,
   "metadata": {},
   "outputs": [],
   "source": [
    "import sys\n",
    "\n",
    "delta  = int(sys.argv[1])\n",
    "START  = datetime(2016, 1, 1)\n",
    "\n",
    "get_data(START, delta)"
   ]
  }
 ],
 "metadata": {
  "kernelspec": {
   "display_name": "Python 3.6 - AzureML",
   "language": "python",
   "name": "python3-azureml"
  },
  "language_info": {
   "codemirror_mode": {
    "name": "ipython",
    "version": 3
   },
   "file_extension": ".py",
   "mimetype": "text/x-python",
   "name": "python",
   "nbconvert_exporter": "python",
   "pygments_lexer": "ipython3",
   "version": "3.6.2"
  }
 },
 "nbformat": 4,
 "nbformat_minor": 2
}
