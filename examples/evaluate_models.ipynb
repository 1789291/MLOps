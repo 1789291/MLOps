{
 "cells": [
  {
   "cell_type": "code",
   "execution_count": null,
   "metadata": {},
   "outputs": [],
   "source": [
    "import pickle\n",
    "\n",
    "import pandas as pd\n",
    "import numpy as np\n",
    "\n",
    "from azureml.core import Workspace, Model\n",
    "\n",
    "from azureml.train import automl\n",
    "\n",
    "from sklearn.metrics import r2_score"
   ]
  },
  {
   "cell_type": "code",
   "execution_count": null,
   "metadata": {},
   "outputs": [],
   "source": [
    "ws = Workspace.from_config()"
   ]
  },
  {
   "cell_type": "code",
   "execution_count": null,
   "metadata": {},
   "outputs": [],
   "source": [
    "ws.models"
   ]
  },
  {
   "cell_type": "code",
   "execution_count": null,
   "metadata": {},
   "outputs": [],
   "source": [
    "model    = ws.models['MVP7model']\n",
    "versions = model.version"
   ]
  },
  {
   "cell_type": "code",
   "execution_count": null,
   "metadata": {},
   "outputs": [],
   "source": [
    "max_versions= 100"
   ]
  },
  {
   "cell_type": "code",
   "execution_count": null,
   "metadata": {},
   "outputs": [],
   "source": [
    "data = [0]*max_versions\n",
    "\n",
    "for version in range(2, versions):\n",
    "    # get version of model\n",
    "    model = Model(ws, name='MVP7model', version=version)\n",
    "    \n",
    "    # reset model tags\n",
    "    model.tags['best_model'] = False\n",
    "    \n",
    "    model.download('outputs/{}'.format(version), exist_ok=True)\n",
    "    \n",
    "    with open('outputs/{}/model.pkl'.format(version), 'rb') as f:\n",
    "        m = pickle.load(f)\n",
    "    \n",
    "    dset  = ws.datasets['{}'.format(versions-1)]\n",
    "    \n",
    "    df    = dset.to_pandas_dataframe()    \n",
    "    df    = df.fillna(0)\n",
    "    \n",
    "    label = 'temperature'\n",
    "\n",
    "    X     = df.drop(columns=[label])\n",
    "    \n",
    "    y     = np.array(df[label])    \n",
    "    y_p   = m.predict(X)\n",
    "    \n",
    "    perf  = r2_score(y, y_p)\n",
    "    \n",
    "    data[version] = perf\n",
    "        \n",
    "headers = ['v{}'.format(version) for version in range(1, max_versions+1)]  \n",
    "df      = pd.DataFrame([data], columns=headers)\n",
    "\n",
    "if versions == 1:\n",
    "    df.to_csv('report.csv')\n",
    "else:\n",
    "    with open('report.csv', 'a') as f:\n",
    "        df.to_csv(f, header=False)\n",
    "        \n",
    "dset = "
   ]
  }
 ],
 "metadata": {
  "kernelspec": {
   "display_name": "Python 3.6 - AzureML",
   "language": "python",
   "name": "python3-azureml"
  },
  "language_info": {
   "codemirror_mode": {
    "name": "ipython",
    "version": 3
   },
   "file_extension": ".py",
   "mimetype": "text/x-python",
   "name": "python",
   "nbconvert_exporter": "python",
   "pygments_lexer": "ipython3",
   "version": "3.6.2"
  }
 },
 "nbformat": 4,
 "nbformat_minor": 2
}
