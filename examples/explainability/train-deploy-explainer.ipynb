{
 "cells": [
  {
   "cell_type": "code",
   "execution_count": 1,
   "metadata": {},
   "outputs": [],
   "source": [
    "from azureml.core import Workspace\n",
    "\n",
    "ws = Workspace.from_config()\n",
    "ws.get_details()"
   ]
  },
  {
   "cell_type": "code",
   "execution_count": null,
   "metadata": {},
   "outputs": [],
   "source": [
    "# see what your run definition looks like\n",
    "with open(\".azureml/explain.runconfig\",\"r\") as f:\n",
    "    print(f.read())"
   ]
  },
  {
   "cell_type": "code",
   "execution_count": null,
   "metadata": {},
   "outputs": [],
   "source": [
    "# see what your package dependencies looks like\n",
    "with open(\".azureml/conda_dependencies.yml\",\"r\") as f:\n",
    "    print(f.read())"
   ]
  },
  {
   "cell_type": "code",
   "execution_count": 24,
   "metadata": {},
   "outputs": [],
   "source": [
    "#submit and monitor a run\n",
    "from azureml.core import RunConfiguration, Experiment\n",
    "from azureml.core.script_run_config import ScriptRunConfig\n",
    "from azureml.widgets import RunDetails\n",
    "\n",
    "runconfig = RunConfiguration.load('.','explain')\n",
    "src = ScriptRunConfig(source_directory='.',script='train_explain.py',run_config=runconfig)\n",
    "run = Experiment(ws,'generate-attrition-explainer').submit(src)\n",
    "RunDetails(run).show()"
   ]
  },
  {
   "cell_type": "code",
   "execution_count": null,
   "metadata": {},
   "outputs": [],
   "source": [
    "#see what your score file looks like\n",
    "with open(\"score.py\",\"r\") as f:\n",
    "    print(f.read())"
   ]
  },
  {
   "cell_type": "code",
   "execution_count": null,
   "metadata": {},
   "outputs": [],
   "source": [
    "#deploy\n",
    "from azureml.core import Workspace\n",
    "from azureml.core.webservice import AciWebservice\n",
    "from azureml.core.model import InferenceConfig, Model\n",
    "\n",
    "ws = Workspace.from_config()\n",
    "\n",
    "scoring_explainer_model = Model(ws, 'IBM_attrition_explainer')\n",
    "attrition_model = Model(ws, 'IBM_attrition_model')\n",
    "\n",
    "aciconfig = AciWebservice.deploy_configuration(cpu_cores=1, \n",
    "                                               memory_gb=1, \n",
    "                                               tags={\"data\": \"IBM_Attrition\",  \n",
    "                                                     \"method\" : \"local_explanation\"}, \n",
    "                                               description='Explain predictions on employee attrition')\n",
    "                                               \n",
    "inference_config = InferenceConfig(entry_script='score.py', \n",
    "                                   extra_docker_file_steps='Dockerfile', \n",
    "                                   runtime='python', \n",
    "                                   conda_file='myenv.yml')\n",
    "\n",
    "service = Model.deploy(ws, name='predictattritionsvc', models=[scoring_explainer_model, attrition_model], inference_config= inference_config, deployment_config=aciconfig)"
   ]
  },
  {
   "cell_type": "code",
   "execution_count": null,
   "metadata": {},
   "outputs": [],
   "source": [
    "# get URI for querying\n",
    "from azureml.core.webservice import AciWebservice\n",
    "import requests\n",
    "import json\n",
    "\n",
    "sample = '{\"Age\":{\"899\":49},\"BusinessTravel\":{\"899\":\"Travel_Rarely\"},\"DailyRate\":{\"899\":1098},\"Department\":{\"899\":\"Research & Development\"},\"DistanceFromHome\":{\"899\":4},\"Education\":{\"899\":2},\"EducationField\":{\"899\":\"Medical\"},\"EnvironmentSatisfaction\":{\"899\":1},\"Gender\":{\"899\":\"Male\"},\"HourlyRate\":{\"899\":85},\"JobInvolvement\":{\"899\":2},\"JobLevel\":{\"899\":5},\"JobRole\":{\"899\":\"Manager\"},\"JobSatisfaction\":{\"899\":3},\"MaritalStatus\":{\"899\":\"Married\"},\"MonthlyIncome\":{\"899\":18711},\"MonthlyRate\":{\"899\":12124},\"NumCompaniesWorked\":{\"899\":2},\"OverTime\":{\"899\":\"No\"},\"PercentSalaryHike\":{\"899\":13},\"PerformanceRating\":{\"899\":3},\"RelationshipSatisfaction\":{\"899\":3},\"StockOptionLevel\":{\"899\":1},\"TotalWorkingYears\":{\"899\":23},\"TrainingTimesLastYear\":{\"899\":2},\"WorkLifeBalance\":{\"899\":4},\"YearsAtCompany\":{\"899\":1},\"YearsInCurrentRole\":{\"899\":0},\"YearsSinceLastPromotion\":{\"899\":0},\"YearsWithCurrManager\":{\"899\":0}}'\n",
    "\n",
    "service = AciWebservice(ws,\"predictattritionsvc\")\n",
    "print(service.scoring_uri)\n",
    "\n",
    "headers = {'Content-Type':'application/json'}\n",
    "\n",
    "# send request to service\n",
    "resp = requests.post(service.scoring_uri, sample, headers=headers)\n",
    "print(\"prediction:\", resp.text)\n",
    "result = json.loads(resp.text)"
   ]
  },
  {
   "cell_type": "code",
   "execution_count": null,
   "metadata": {},
   "outputs": [],
   "source": [
    "#plot the feature importance for the prediction\n",
    "import numpy as np\n",
    "import matplotlib.pyplot as plt; plt.rcdefaults()\n",
    "\n",
    "labels = json.loads(sample)\n",
    "labels = labels.keys()\n",
    "objects = labels\n",
    "y_pos = np.arange(len(objects))\n",
    "performance = result[\"local_importance_values\"][0][0]\n",
    "\n",
    "plt.bar(y_pos, performance, align='center', alpha=0.5)\n",
    "plt.xticks(y_pos, objects)\n",
    "locs, labels = plt.xticks()\n",
    "plt.setp(labels, rotation=90)\n",
    "plt.ylabel('Feature impact - leaving vs not leaving')\n",
    "plt.title('Local feature importance for prediction')\n",
    "\n",
    "plt.show()"
   ]
  }
 ],
 "metadata": {
  "kernelspec": {
   "display_name": "Python [conda env:py36]",
   "language": "python",
   "name": "conda-env-py36-py"
  },
  "language_info": {
   "codemirror_mode": {
    "name": "ipython",
    "version": 3
   },
   "file_extension": ".py",
   "mimetype": "text/x-python",
   "name": "python",
   "nbconvert_exporter": "python",
   "pygments_lexer": "ipython3",
   "version": "3.6.8"
  }
 },
 "nbformat": 4,
 "nbformat_minor": 2
}
